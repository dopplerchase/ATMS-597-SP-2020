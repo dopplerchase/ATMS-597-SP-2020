{
  "nbformat": 4,
  "nbformat_minor": 0,
  "metadata": {
    "colab": {
      "name": "GrabPrecip.ipynb",
      "provenance": [],
      "collapsed_sections": []
    },
    "kernelspec": {
      "name": "python3",
      "display_name": "Python 3"
    }
  },
  "cells": [
    {
      "cell_type": "markdown",
      "metadata": {
        "id": "M6Y0xu7iNAMu",
        "colab_type": "text"
      },
      "source": [
        "### Welcome to a notebook to help download all the GCPC data (precip)\n",
        "\n",
        "Push this button to open it in Google Colab\n",
        "\n",
        "[![Open In Colab](https://colab.research.google.com/assets/colab-badge.svg)]( http://colab.research.google.com/github/dopplerchase/ATMS-597-SP-2020/blob/master/ATMS-597-SP-2020-Project-3/notebooks/GrabPrecip.ipynb)\n"
      ]
    },
    {
      "cell_type": "markdown",
      "metadata": {
        "id": "9kBfv6ACNG9I",
        "colab_type": "text"
      },
      "source": [
        "### Install packages needed"
      ]
    },
    {
      "cell_type": "code",
      "metadata": {
        "id": "41-iCl4mv971",
        "colab_type": "code",
        "outputId": "0bfe0bff-15e9-477e-c7a3-0b7b9fdd8d36",
        "colab": {
          "base_uri": "https://localhost:8080/",
          "height": 85
        }
      },
      "source": [
        "!pip install wget\n",
        "!pip install netCDF4"
      ],
      "execution_count": 77,
      "outputs": [
        {
          "output_type": "stream",
          "text": [
            "Requirement already satisfied: wget in /usr/local/lib/python3.6/dist-packages (3.2)\n",
            "Requirement already satisfied: netCDF4 in /usr/local/lib/python3.6/dist-packages (1.5.3)\n",
            "Requirement already satisfied: cftime in /usr/local/lib/python3.6/dist-packages (from netCDF4) (1.1.0)\n",
            "Requirement already satisfied: numpy>=1.7 in /usr/local/lib/python3.6/dist-packages (from netCDF4) (1.17.5)\n"
          ],
          "name": "stdout"
        }
      ]
    },
    {
      "cell_type": "markdown",
      "metadata": {
        "id": "af4mvTIZNMDC",
        "colab_type": "text"
      },
      "source": [
        "### import needed modules"
      ]
    },
    {
      "cell_type": "code",
      "metadata": {
        "id": "61c_sjUcNOL0",
        "colab_type": "code",
        "colab": {}
      },
      "source": [
        "from tqdm import tqdm\n",
        "import xarray as xr\n",
        "import numpy as np\n",
        "import wget\n",
        "import os \n",
        "from bs4 import BeautifulSoup\n",
        "import re\n",
        "import urllib.request\n",
        "import pandas as pd\n",
        "\n",
        "%pylab inline"
      ],
      "execution_count": 0,
      "outputs": []
    },
    {
      "cell_type": "markdown",
      "metadata": {
        "id": "LwYbu6-dNRrP",
        "colab_type": "text"
      },
      "source": [
        "### Define Class"
      ]
    },
    {
      "cell_type": "code",
      "metadata": {
        "id": "tzyi6vWaZs-G",
        "colab_type": "code",
        "colab": {}
      },
      "source": [
        "class Rainy():\n",
        "  \"\"\"\n",
        "  A Class to do some precip analysis. \n",
        "  \"\"\"\n",
        "\n",
        "  def __init__(self): \n",
        "    pass\n",
        "\n",
        "\n",
        "  def getLinks(self,BASE_URL=None,TIME1=None,TIME2=None,verbose=True,begin_month = 6,end_month = 8):\n",
        "\n",
        "    \"\"\"\n",
        "    This method uses webscraping (and Beautiful soup) to grab the links. \n",
        "    By default, it will create the links for 1996 to current. Also this defaults \n",
        "    to NH summer. To change to different months change begin_month and end_month \n",
        "    \"\"\"\n",
        "\n",
        "    if BASE_URL is None: \n",
        "      BASE_URL = 'https://www.ncei.noaa.gov/data/global-precipitation-climatology-project-gpcp-daily/access/'\n",
        "\n",
        "    if TIME1 is None:\n",
        "      TIME1 = '1996-01-01'\n",
        "    \n",
        "    if TIME2 is None: \n",
        "      TIME2 = '2019-12-31'\n",
        "\n",
        "    time_range=pd.date_range(start=TIME1,end=TIME2,freq='Y')\n",
        "    links = []\n",
        "    if verbose:\n",
        "      for item in time_range.year:\n",
        "          url=BASE_URL+str(item)\n",
        "          print('year = ',item)\n",
        "          print('Getting links from '+url)\n",
        "          html_page = urllib.request.urlopen(url)\n",
        "          soup = BeautifulSoup(html_page.read())\n",
        "          #does not work for months > 10, but for this assignment its ok.\n",
        "          for link in soup.findAll('a', attrs={'href': re.compile(\"^gpcp_v01r03_daily_d\\d\\d\\d\\d0([\"+str(begin_month)+\"-\"+str(end_month)+\"])\")}):\n",
        "                links.append(url+'/'+link.get('href'))\n",
        "    else:\n",
        "      for item in tqdm(time_range.year):\n",
        "          url=BASE_URL+str(item)\n",
        "          html_page = urllib.request.urlopen(url)\n",
        "          soup = BeautifulSoup(html_page.read())\n",
        "          for link in soup.findAll('a', attrs={'href': re.compile(\"^gpcp_v01r03_daily_d\\d\\d\\d\\d0([\"+str(begin_month)+\"-\"+str(end_month)+\"])\")}):\n",
        "              links.append(url+'/'+link.get('href'))\n",
        "\n",
        "    self.links = links\n",
        "\n",
        "  def download_links(self,parallel=True):\n",
        "\n",
        "    \"\"\" Download all files to the current directory\"\"\"\n",
        "    \n",
        "    if os.path.isdir('./raw_data/') is False:\n",
        "      os.mkdir('./raw_data/')\n",
        "\n",
        "    if parallel:\n",
        "\n",
        "      \n",
        "      import multiprocessing as mp\n",
        "      n_cpu = mp.cpu_count()\n",
        "      pool = mp.Pool(processes=n_cpu)\n",
        "      for _ in tqdm(pool.imap_unordered(download_par, self.links), total=len(self.links)):\n",
        "          pass\n",
        "      pool.close()\n",
        "      pool.join()\n",
        "    else:\n",
        "      # Download all these files to this Google Drive folder\n",
        "      for item in tqdm(self.links):\n",
        "        ff=wget.download(item,'./raw_data/'+item[-40:])\n",
        "    \n",
        "  \n",
        "  def get_loc(self,lon=None,lat=None,method='nearest'):\n",
        "    if lon is None:\n",
        "      lon = (360.-88.2434)\n",
        "    if lat is None:\n",
        "      lat = 40.1164\n",
        "    data=xr.open_mfdataset('./raw_data/gp*.nc',combine='by_coords',concat_dim='time')\n",
        "    data_champaign_jja=data.precip.sel(latitude=lat,longitude=lon,method=method)\n",
        "    data_final=data_champaign_jja.to_series()   #Convert DataArray to Pandas Series for more flexibility \n",
        "    data_final[data_final==data_final.max()]=np.nan #Set unphysical values (O(1e36)) to NaNs \n",
        "\n",
        "    self.data = data_final\n",
        "\n",
        "  def plot_cdf(self):\n",
        "\n",
        "    import matplotlib \n",
        "    import matplotlib.pylab as plt\n",
        "\n",
        "    matplotlib.rcParams.update({'font.size': 16.0})\n",
        "    fig=plt.figure(figsize=(11,8))\n",
        "    fig.set_facecolor('w')\n",
        "    self.data.hist(cumulative=True, density=1,bins=500)\n",
        "    perc95=self.data.quantile(q=0.95)\n",
        "    plt.axvline(perc95,color='r')\n",
        "    plt.title('CDF of JJA daily precip over Champaign, IL')\n",
        "    plt.xlabel('Daily precipitation (mm)')\n",
        "    plt.text(20.2,0.8,'95th percentile = '+str(perc95))\n",
        "\n",
        "\n",
        "  def split_on_quantile(self,quantile=0.95):\n",
        "\n",
        "    if os.path.isdir('./subset_data/') is False:\n",
        "      os.mkdir('./subset_data/')\n",
        "    percentile=self.data.quantile(q=quantile)\n",
        "    dates_lt_percentile=pd.Series(self.data[self.data<percentile].index)   #Dates for data less than the percentile\n",
        "    dates_gte_percentile=pd.Series(self.data[self.data>=percentile].index) #greater than or equal to the  percentile\n",
        "\n",
        "    dates_gte_percentile.to_csv('./subset_data/precip_gte'+str(int(quantile*100))+'quant.csv')\n",
        "    dates_lt_percentile.to_csv('./subset_data/precip_lt'+str(int(quantile*100))+'quant.csv')\n",
        "    self.dates_gte_percentile = dates_gte_percentile\n",
        "    self.dates_lt_percentile = dates_lt_percentile\n",
        "\n",
        "def download_par(item):\n",
        "  ff=wget.download(item,'./raw_data/'+item[-40:])\n",
        "  return\n"
      ],
      "execution_count": 0,
      "outputs": []
    },
    {
      "cell_type": "markdown",
      "metadata": {
        "id": "19rbfxKqNax7",
        "colab_type": "text"
      },
      "source": [
        "### Initialize class and scrape links"
      ]
    },
    {
      "cell_type": "code",
      "metadata": {
        "id": "NvKpTS31um5S",
        "colab_type": "code",
        "outputId": "42d6f519-1996-46f7-b2ed-ca063960c8c2",
        "colab": {
          "base_uri": "https://localhost:8080/",
          "height": 34
        }
      },
      "source": [
        "drops = Rainy()\n",
        "drops.getLinks(verbose=False)"
      ],
      "execution_count": 79,
      "outputs": [
        {
          "output_type": "stream",
          "text": [
            "100%|██████████| 24/24 [00:16<00:00,  1.45it/s]\n"
          ],
          "name": "stderr"
        }
      ]
    },
    {
      "cell_type": "markdown",
      "metadata": {
        "id": "s-ebfIpTNhhW",
        "colab_type": "text"
      },
      "source": [
        "### Download links\n",
        "\n",
        "This can take a bit (5-10 mins). Go make a cup of tea"
      ]
    },
    {
      "cell_type": "code",
      "metadata": {
        "id": "9E3SJl4Cu2uy",
        "colab_type": "code",
        "outputId": "b5685ed0-2d60-4646-ec68-91ed77b497f3",
        "colab": {
          "base_uri": "https://localhost:8080/",
          "height": 34
        }
      },
      "source": [
        "drops.download_links()"
      ],
      "execution_count": 80,
      "outputs": [
        {
          "output_type": "stream",
          "text": [
            "100%|██████████| 2117/2117 [04:53<00:00,  7.99it/s]\n"
          ],
          "name": "stderr"
        }
      ]
    },
    {
      "cell_type": "markdown",
      "metadata": {
        "id": "wbnxcbzYNpI6",
        "colab_type": "text"
      },
      "source": [
        "### Subset the global data to just your site of interest"
      ]
    },
    {
      "cell_type": "code",
      "metadata": {
        "id": "s-vRUKsIvC5D",
        "colab_type": "code",
        "colab": {}
      },
      "source": [
        "drops.get_loc()"
      ],
      "execution_count": 0,
      "outputs": []
    },
    {
      "cell_type": "markdown",
      "metadata": {
        "id": "QZH6i-CWNu5M",
        "colab_type": "text"
      },
      "source": [
        "### Lets plot up the CDF"
      ]
    },
    {
      "cell_type": "code",
      "metadata": {
        "id": "_v7-7ag5BLZS",
        "colab_type": "code",
        "outputId": "955115f0-d112-473f-b17c-14051febe20f",
        "colab": {
          "base_uri": "https://localhost:8080/",
          "height": 528
        }
      },
      "source": [
        "drops.plot_cdf()"
      ],
      "execution_count": 82,
      "outputs": [
        {
          "output_type": "display_data",
          "data": {
            "image/png": "[encoded data removed]",
            "text/plain": [
              "<Figure size 792x576 with 1 Axes>"
            ]
          },
          "metadata": {
            "tags": []
          }
        }
      ]
    },
    {
      "cell_type": "markdown",
      "metadata": {
        "id": "4PHZXp3tNyL9",
        "colab_type": "text"
      },
      "source": [
        "### Split the data and save the data"
      ]
    },
    {
      "cell_type": "code",
      "metadata": {
        "id": "q_MygXUhwUEY",
        "colab_type": "code",
        "outputId": "f23cc100-214b-4ada-ae34-c07646a34f31",
        "colab": {
          "base_uri": "https://localhost:8080/",
          "height": 71
        }
      },
      "source": [
        "drops.split_on_quantile()"
      ],
      "execution_count": 83,
      "outputs": [
        {
          "output_type": "stream",
          "text": [
            "/usr/local/lib/python3.6/dist-packages/ipykernel_launcher.py:108: FutureWarning: The signature of `Series.to_csv` was aligned to that of `DataFrame.to_csv`, and argument 'header' will change its default value from False to True: please pass an explicit value to suppress this warning.\n",
            "/usr/local/lib/python3.6/dist-packages/ipykernel_launcher.py:109: FutureWarning: The signature of `Series.to_csv` was aligned to that of `DataFrame.to_csv`, and argument 'header' will change its default value from False to True: please pass an explicit value to suppress this warning.\n"
          ],
          "name": "stderr"
        }
      ]
    },
    {
      "cell_type": "code",
      "metadata": {
        "id": "FIUSXp9-Phu8",
        "colab_type": "code",
        "colab": {}
      },
      "source": [
        ""
      ],
      "execution_count": 0,
      "outputs": []
    }
  ]
}
