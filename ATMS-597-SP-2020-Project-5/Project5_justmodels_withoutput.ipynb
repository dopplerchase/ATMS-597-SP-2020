{
  "nbformat": 4,
  "nbformat_minor": 0,
  "metadata": {
    "colab": {
      "name": "Project5.ipynb",
      "provenance": []
    },
    "kernelspec": {
      "name": "python3",
      "display_name": "Python 3"
    }
  },
  "cells": [
    {
      "cell_type": "code",
      "metadata": {
        "id": "Md5fZqWMtEBb",
        "colab_type": "code",
        "colab": {}
      },
      "source": [
        "# import required modules\n",
        "import pandas as pd\n",
        "import numpy as np\n",
        "import matplotlib.pyplot as plt\n",
        "import seaborn as sns\n",
        "%matplotlib inline"
      ],
      "execution_count": 0,
      "outputs": []
    },
    {
      "cell_type": "code",
      "metadata": {
        "id": "FYeiDBUi_xej",
        "colab_type": "code",
        "outputId": "67227ba9-2f41-4eee-a352-26cec6ea2977",
        "colab": {
          "base_uri": "https://localhost:8080/",
          "height": 35
        }
      },
      "source": [
        "!git clone https://github.com/dopplerchase/ATMS-597-SP-2020.git"
      ],
      "execution_count": 0,
      "outputs": [
        {
          "output_type": "stream",
          "text": [
            "fatal: destination path 'ATMS-597-SP-2020' already exists and is not an empty directory.\n"
          ],
          "name": "stdout"
        }
      ]
    },
    {
      "cell_type": "markdown",
      "metadata": {
        "id": "ZNUn5tAmqQeV",
        "colab_type": "text"
      },
      "source": [
        "# Import and clean data"
      ]
    },
    {
      "cell_type": "code",
      "metadata": {
        "id": "ddIhzIb0Ci_e",
        "colab_type": "code",
        "outputId": "a0513a1b-6d0d-486e-a9e3-7daeb3be483f",
        "colab": {
          "base_uri": "https://localhost:8080/",
          "height": 289
        }
      },
      "source": [
        "rain = pd.read_csv('./ATMS-597-SP-2020/ATMS-597-SP-2020-Project-5/RAIN_KIMT.csv')\n",
        "snow = pd.read_csv('./ATMS-597-SP-2020/ATMS-597-SP-2020-Project-5/SNOW_KIMT.csv')\n",
        "\n",
        "data = pd.concat([rain,snow])\n",
        "data.tail()"
      ],
      "execution_count": 0,
      "outputs": [
        {
          "output_type": "execute_result",
          "data": {
            "text/html": [
              "<div>\n",
              "<style scoped>\n",
              "    .dataframe tbody tr th:only-of-type {\n",
              "        vertical-align: middle;\n",
              "    }\n",
              "\n",
              "    .dataframe tbody tr th {\n",
              "        vertical-align: top;\n",
              "    }\n",
              "\n",
              "    .dataframe thead th {\n",
              "        text-align: right;\n",
              "    }\n",
              "</style>\n",
              "<table border=\"1\" class=\"dataframe\">\n",
              "  <thead>\n",
              "    <tr style=\"text-align: right;\">\n",
              "      <th></th>\n",
              "      <th>Unnamed: 0</th>\n",
              "      <th>wind_direction</th>\n",
              "      <th>wind_speed</th>\n",
              "      <th>air_temperature</th>\n",
              "      <th>dew_point_temperature</th>\n",
              "      <th>present_weather</th>\n",
              "      <th>sea_level_pressure</th>\n",
              "      <th>pressure</th>\n",
              "      <th>wet_bulb</th>\n",
              "    </tr>\n",
              "  </thead>\n",
              "  <tbody>\n",
              "    <tr>\n",
              "      <th>61084</th>\n",
              "      <td>2019-12-12 20:35:00</td>\n",
              "      <td>50.0</td>\n",
              "      <td>5.0</td>\n",
              "      <td>-8.0</td>\n",
              "      <td>-11.0</td>\n",
              "      <td>75.0</td>\n",
              "      <td>1018.687951</td>\n",
              "      <td>973.896171</td>\n",
              "      <td>-8.797526</td>\n",
              "    </tr>\n",
              "    <tr>\n",
              "      <th>61085</th>\n",
              "      <td>2019-12-12 20:40:00</td>\n",
              "      <td>50.0</td>\n",
              "      <td>5.0</td>\n",
              "      <td>-8.0</td>\n",
              "      <td>-11.0</td>\n",
              "      <td>75.0</td>\n",
              "      <td>1018.687951</td>\n",
              "      <td>973.896171</td>\n",
              "      <td>-8.797526</td>\n",
              "    </tr>\n",
              "    <tr>\n",
              "      <th>61086</th>\n",
              "      <td>2019-12-12 20:45:00</td>\n",
              "      <td>40.0</td>\n",
              "      <td>7.0</td>\n",
              "      <td>-8.0</td>\n",
              "      <td>-11.0</td>\n",
              "      <td>75.0</td>\n",
              "      <td>1018.687951</td>\n",
              "      <td>973.896171</td>\n",
              "      <td>-8.797526</td>\n",
              "    </tr>\n",
              "    <tr>\n",
              "      <th>61087</th>\n",
              "      <td>2019-12-12 21:20:00</td>\n",
              "      <td>350.0</td>\n",
              "      <td>4.0</td>\n",
              "      <td>-8.0</td>\n",
              "      <td>-11.0</td>\n",
              "      <td>75.0</td>\n",
              "      <td>1018.345457</td>\n",
              "      <td>973.568736</td>\n",
              "      <td>-8.797719</td>\n",
              "    </tr>\n",
              "    <tr>\n",
              "      <th>61088</th>\n",
              "      <td>2019-12-12 21:25:00</td>\n",
              "      <td>330.0</td>\n",
              "      <td>4.0</td>\n",
              "      <td>-8.0</td>\n",
              "      <td>-11.0</td>\n",
              "      <td>75.0</td>\n",
              "      <td>1018.345457</td>\n",
              "      <td>973.568736</td>\n",
              "      <td>-8.797719</td>\n",
              "    </tr>\n",
              "  </tbody>\n",
              "</table>\n",
              "</div>"
            ],
            "text/plain": [
              "                Unnamed: 0  wind_direction  ...    pressure  wet_bulb\n",
              "61084  2019-12-12 20:35:00            50.0  ...  973.896171 -8.797526\n",
              "61085  2019-12-12 20:40:00            50.0  ...  973.896171 -8.797526\n",
              "61086  2019-12-12 20:45:00            40.0  ...  973.896171 -8.797526\n",
              "61087  2019-12-12 21:20:00           350.0  ...  973.568736 -8.797719\n",
              "61088  2019-12-12 21:25:00           330.0  ...  973.568736 -8.797719\n",
              "\n",
              "[5 rows x 9 columns]"
            ]
          },
          "metadata": {
            "tags": []
          },
          "execution_count": 114
        }
      ]
    },
    {
      "cell_type": "code",
      "metadata": {
        "id": "FmvcfXK5wCF7",
        "colab_type": "code",
        "outputId": "fc3fae37-acd8-4b5b-ff92-bc743a367409",
        "colab": {
          "base_uri": "https://localhost:8080/",
          "height": 173
        }
      },
      "source": [
        "# Check which present weather codes are in our data\n",
        "data['present_weather'].value_counts()"
      ],
      "execution_count": 0,
      "outputs": [
        {
          "output_type": "execute_result",
          "data": {
            "text/plain": [
              "71.0    56886\n",
              "61.0    51738\n",
              "63.0     5196\n",
              "73.0     3725\n",
              "65.0     1225\n",
              "66.0      829\n",
              "75.0      478\n",
              "67.0       64\n",
              "Name: present_weather, dtype: int64"
            ]
          },
          "metadata": {
            "tags": []
          },
          "execution_count": 115
        }
      ]
    },
    {
      "cell_type": "code",
      "metadata": {
        "id": "aOG3FPuVGTyK",
        "colab_type": "code",
        "outputId": "66515025-5ee5-4403-8ac1-943712e66b92",
        "colab": {
          "base_uri": "https://localhost:8080/",
          "height": 202
        }
      },
      "source": [
        "# Change frozen/liquid precip to read as such \n",
        "data['present_weather'].replace(to_replace=[61.0, 63.0, 65.0, 66.0, 67.0, 71.0, 73.0, 75.0], value= ['Liquid', 'Liquid', 'Liquid', 'Liquid', 'Liquid', 'Frozen', 'Frozen', 'Frozen'], inplace=True)\n",
        "\n",
        "# Rename present weather column and drop unecessary columns\n",
        "data.rename(columns={'present_weather': 'Precipitation_Type'}, inplace = True)\n",
        "data.drop('Unnamed: 0', axis = 1, inplace= True)\n",
        "data.head()"
      ],
      "execution_count": 0,
      "outputs": [
        {
          "output_type": "execute_result",
          "data": {
            "text/html": [
              "<div>\n",
              "<style scoped>\n",
              "    .dataframe tbody tr th:only-of-type {\n",
              "        vertical-align: middle;\n",
              "    }\n",
              "\n",
              "    .dataframe tbody tr th {\n",
              "        vertical-align: top;\n",
              "    }\n",
              "\n",
              "    .dataframe thead th {\n",
              "        text-align: right;\n",
              "    }\n",
              "</style>\n",
              "<table border=\"1\" class=\"dataframe\">\n",
              "  <thead>\n",
              "    <tr style=\"text-align: right;\">\n",
              "      <th></th>\n",
              "      <th>wind_direction</th>\n",
              "      <th>wind_speed</th>\n",
              "      <th>air_temperature</th>\n",
              "      <th>dew_point_temperature</th>\n",
              "      <th>Precipitation_Type</th>\n",
              "      <th>sea_level_pressure</th>\n",
              "      <th>pressure</th>\n",
              "      <th>wet_bulb</th>\n",
              "    </tr>\n",
              "  </thead>\n",
              "  <tbody>\n",
              "    <tr>\n",
              "      <th>0</th>\n",
              "      <td>350.0</td>\n",
              "      <td>10.0</td>\n",
              "      <td>1.0</td>\n",
              "      <td>-5.0</td>\n",
              "      <td>Liquid</td>\n",
              "      <td>1021.63122</td>\n",
              "      <td>978.152888</td>\n",
              "      <td>-1.209824</td>\n",
              "    </tr>\n",
              "    <tr>\n",
              "      <th>1</th>\n",
              "      <td>360.0</td>\n",
              "      <td>10.0</td>\n",
              "      <td>1.0</td>\n",
              "      <td>-6.0</td>\n",
              "      <td>Liquid</td>\n",
              "      <td>1021.63122</td>\n",
              "      <td>978.152888</td>\n",
              "      <td>-1.511414</td>\n",
              "    </tr>\n",
              "    <tr>\n",
              "      <th>2</th>\n",
              "      <td>320.0</td>\n",
              "      <td>11.0</td>\n",
              "      <td>1.0</td>\n",
              "      <td>-5.0</td>\n",
              "      <td>Liquid</td>\n",
              "      <td>1021.63122</td>\n",
              "      <td>978.152888</td>\n",
              "      <td>-1.209824</td>\n",
              "    </tr>\n",
              "    <tr>\n",
              "      <th>3</th>\n",
              "      <td>320.0</td>\n",
              "      <td>12.0</td>\n",
              "      <td>1.0</td>\n",
              "      <td>-5.0</td>\n",
              "      <td>Liquid</td>\n",
              "      <td>1021.63122</td>\n",
              "      <td>978.152888</td>\n",
              "      <td>-1.209824</td>\n",
              "    </tr>\n",
              "    <tr>\n",
              "      <th>4</th>\n",
              "      <td>350.0</td>\n",
              "      <td>11.0</td>\n",
              "      <td>1.0</td>\n",
              "      <td>-5.0</td>\n",
              "      <td>Liquid</td>\n",
              "      <td>1021.63122</td>\n",
              "      <td>978.152888</td>\n",
              "      <td>-1.209824</td>\n",
              "    </tr>\n",
              "  </tbody>\n",
              "</table>\n",
              "</div>"
            ],
            "text/plain": [
              "   wind_direction  wind_speed  ...    pressure  wet_bulb\n",
              "0           350.0        10.0  ...  978.152888 -1.209824\n",
              "1           360.0        10.0  ...  978.152888 -1.511414\n",
              "2           320.0        11.0  ...  978.152888 -1.209824\n",
              "3           320.0        12.0  ...  978.152888 -1.209824\n",
              "4           350.0        11.0  ...  978.152888 -1.209824\n",
              "\n",
              "[5 rows x 8 columns]"
            ]
          },
          "metadata": {
            "tags": []
          },
          "execution_count": 116
        }
      ]
    },
    {
      "cell_type": "code",
      "metadata": {
        "id": "rAD91PgTFP8F",
        "colab_type": "code",
        "outputId": "225bc293-6b5d-4796-f173-0fb2b4bc5b14",
        "colab": {
          "base_uri": "https://localhost:8080/",
          "height": 69
        }
      },
      "source": [
        "data['Precipitation_Type'].value_counts()"
      ],
      "execution_count": 0,
      "outputs": [
        {
          "output_type": "execute_result",
          "data": {
            "text/plain": [
              "Frozen    61089\n",
              "Liquid    59052\n",
              "Name: Precipitation_Type, dtype: int64"
            ]
          },
          "metadata": {
            "tags": []
          },
          "execution_count": 117
        }
      ]
    },
    {
      "cell_type": "code",
      "metadata": {
        "id": "gVhCbz2-H9LR",
        "colab_type": "code",
        "outputId": "1d685796-02aa-48b0-c1de-46df479be6d7",
        "colab": {
          "base_uri": "https://localhost:8080/",
          "height": 173
        }
      },
      "source": [
        "# Check for NaNs\n",
        "data.isnull().sum()"
      ],
      "execution_count": 0,
      "outputs": [
        {
          "output_type": "execute_result",
          "data": {
            "text/plain": [
              "wind_direction              0\n",
              "wind_speed                  0\n",
              "air_temperature             0\n",
              "dew_point_temperature       0\n",
              "Precipitation_Type          0\n",
              "sea_level_pressure          0\n",
              "pressure                    0\n",
              "wet_bulb                 4105\n",
              "dtype: int64"
            ]
          },
          "metadata": {
            "tags": []
          },
          "execution_count": 118
        }
      ]
    },
    {
      "cell_type": "code",
      "metadata": {
        "id": "tW5xbbjwL42V",
        "colab_type": "code",
        "outputId": "e74709b6-760f-431b-8360-58f631ac318b",
        "colab": {
          "base_uri": "https://localhost:8080/",
          "height": 173
        }
      },
      "source": [
        "# Drop rows with a Nan\n",
        "data.dropna(axis=0, how='any', inplace=True)\n",
        "data.isnull().sum()"
      ],
      "execution_count": 0,
      "outputs": [
        {
          "output_type": "execute_result",
          "data": {
            "text/plain": [
              "wind_direction           0\n",
              "wind_speed               0\n",
              "air_temperature          0\n",
              "dew_point_temperature    0\n",
              "Precipitation_Type       0\n",
              "sea_level_pressure       0\n",
              "pressure                 0\n",
              "wet_bulb                 0\n",
              "dtype: int64"
            ]
          },
          "metadata": {
            "tags": []
          },
          "execution_count": 119
        }
      ]
    },
    {
      "cell_type": "code",
      "metadata": {
        "id": "F72P5k2RHswV",
        "colab_type": "code",
        "outputId": "5c937801-2386-492a-f0f3-b9ff3bae44e4",
        "colab": {
          "base_uri": "https://localhost:8080/",
          "height": 69
        }
      },
      "source": [
        "data['Precipitation_Type'].value_counts()"
      ],
      "execution_count": 0,
      "outputs": [
        {
          "output_type": "execute_result",
          "data": {
            "text/plain": [
              "Frozen    60507\n",
              "Liquid    55529\n",
              "Name: Precipitation_Type, dtype: int64"
            ]
          },
          "metadata": {
            "tags": []
          },
          "execution_count": 120
        }
      ]
    },
    {
      "cell_type": "code",
      "metadata": {
        "id": "IKnz1476Me_x",
        "colab_type": "code",
        "outputId": "a799e3eb-70a5-4a06-e784-44697f219496",
        "colab": {
          "base_uri": "https://localhost:8080/",
          "height": 202
        }
      },
      "source": [
        "# Set liquid precip equal to 1, frozen to 0 \n",
        "data.Precipitation_Type = [1 if each == 'Liquid' else 0 for each in data.Precipitation_Type]\n",
        "data.head()"
      ],
      "execution_count": 0,
      "outputs": [
        {
          "output_type": "execute_result",
          "data": {
            "text/html": [
              "<div>\n",
              "<style scoped>\n",
              "    .dataframe tbody tr th:only-of-type {\n",
              "        vertical-align: middle;\n",
              "    }\n",
              "\n",
              "    .dataframe tbody tr th {\n",
              "        vertical-align: top;\n",
              "    }\n",
              "\n",
              "    .dataframe thead th {\n",
              "        text-align: right;\n",
              "    }\n",
              "</style>\n",
              "<table border=\"1\" class=\"dataframe\">\n",
              "  <thead>\n",
              "    <tr style=\"text-align: right;\">\n",
              "      <th></th>\n",
              "      <th>wind_direction</th>\n",
              "      <th>wind_speed</th>\n",
              "      <th>air_temperature</th>\n",
              "      <th>dew_point_temperature</th>\n",
              "      <th>Precipitation_Type</th>\n",
              "      <th>sea_level_pressure</th>\n",
              "      <th>pressure</th>\n",
              "      <th>wet_bulb</th>\n",
              "    </tr>\n",
              "  </thead>\n",
              "  <tbody>\n",
              "    <tr>\n",
              "      <th>0</th>\n",
              "      <td>350.0</td>\n",
              "      <td>10.0</td>\n",
              "      <td>1.0</td>\n",
              "      <td>-5.0</td>\n",
              "      <td>1</td>\n",
              "      <td>1021.63122</td>\n",
              "      <td>978.152888</td>\n",
              "      <td>-1.209824</td>\n",
              "    </tr>\n",
              "    <tr>\n",
              "      <th>1</th>\n",
              "      <td>360.0</td>\n",
              "      <td>10.0</td>\n",
              "      <td>1.0</td>\n",
              "      <td>-6.0</td>\n",
              "      <td>1</td>\n",
              "      <td>1021.63122</td>\n",
              "      <td>978.152888</td>\n",
              "      <td>-1.511414</td>\n",
              "    </tr>\n",
              "    <tr>\n",
              "      <th>2</th>\n",
              "      <td>320.0</td>\n",
              "      <td>11.0</td>\n",
              "      <td>1.0</td>\n",
              "      <td>-5.0</td>\n",
              "      <td>1</td>\n",
              "      <td>1021.63122</td>\n",
              "      <td>978.152888</td>\n",
              "      <td>-1.209824</td>\n",
              "    </tr>\n",
              "    <tr>\n",
              "      <th>3</th>\n",
              "      <td>320.0</td>\n",
              "      <td>12.0</td>\n",
              "      <td>1.0</td>\n",
              "      <td>-5.0</td>\n",
              "      <td>1</td>\n",
              "      <td>1021.63122</td>\n",
              "      <td>978.152888</td>\n",
              "      <td>-1.209824</td>\n",
              "    </tr>\n",
              "    <tr>\n",
              "      <th>4</th>\n",
              "      <td>350.0</td>\n",
              "      <td>11.0</td>\n",
              "      <td>1.0</td>\n",
              "      <td>-5.0</td>\n",
              "      <td>1</td>\n",
              "      <td>1021.63122</td>\n",
              "      <td>978.152888</td>\n",
              "      <td>-1.209824</td>\n",
              "    </tr>\n",
              "  </tbody>\n",
              "</table>\n",
              "</div>"
            ],
            "text/plain": [
              "   wind_direction  wind_speed  ...    pressure  wet_bulb\n",
              "0           350.0        10.0  ...  978.152888 -1.209824\n",
              "1           360.0        10.0  ...  978.152888 -1.511414\n",
              "2           320.0        11.0  ...  978.152888 -1.209824\n",
              "3           320.0        12.0  ...  978.152888 -1.209824\n",
              "4           350.0        11.0  ...  978.152888 -1.209824\n",
              "\n",
              "[5 rows x 8 columns]"
            ]
          },
          "metadata": {
            "tags": []
          },
          "execution_count": 121
        }
      ]
    },
    {
      "cell_type": "markdown",
      "metadata": {
        "id": "hwJBxRGxqvGH",
        "colab_type": "text"
      },
      "source": [
        "# Logistic Regression model\n",
        "\n",
        "### Source: https://www.datacamp.com/community/tutorials/understanding-logistic-regression-python"
      ]
    },
    {
      "cell_type": "code",
      "metadata": {
        "id": "6LRDlmxJjmOi",
        "colab_type": "code",
        "colab": {}
      },
      "source": [
        "#split dataset into features and target variable\n",
        "cols = ['wind_direction', 'wind_speed',\t'air_temperature', 'dew_point_temperature',\t'sea_level_pressure',\t'pressure',\t'wet_bulb']\n",
        "X = data[cols] #features\n",
        "y = data.Precipitation_Type # Target variable\n",
        "\n",
        "# Scale X matrix\n",
        "from sklearn.preprocessing import StandardScaler\n",
        "scaler = StandardScaler()\n",
        "X = scaler.fit_transform(X)\n",
        "\n",
        "# split X and y into training and testing sets\n",
        "from sklearn.model_selection import train_test_split\n",
        "X_train,X_test,y_train,y_test = train_test_split(X,y,test_size=0.3,random_state=0)\n",
        "\n",
        "# Build and fit logistic regression model\n",
        "from sklearn.linear_model import LogisticRegression\n",
        "logreg = LogisticRegression()\n",
        "\n",
        "# fit the model with data\n",
        "logreg.fit(X_train,y_train)\n",
        "y_pred = logreg.predict(X_test)"
      ],
      "execution_count": 0,
      "outputs": []
    },
    {
      "cell_type": "code",
      "metadata": {
        "id": "aFeuOLTojmHL",
        "colab_type": "code",
        "outputId": "13015d32-3463-4b19-85fe-0925bc6b3ffc",
        "colab": {
          "base_uri": "https://localhost:8080/",
          "height": 343
        }
      },
      "source": [
        "# Construct confusion matrix\n",
        "from sklearn import metrics\n",
        "cnf_matrix = metrics.confusion_matrix(y_test, y_pred)\n",
        "\n",
        "# Plot confusion matrix\n",
        "class_names=[0,1] # name  of classes\n",
        "fig, ax = plt.subplots()\n",
        "tick_marks = np.arange(len(class_names))\n",
        "plt.xticks(tick_marks, class_names)\n",
        "plt.yticks(tick_marks, class_names)\n",
        "# create heatmap\n",
        "sns.heatmap(pd.DataFrame(cnf_matrix), annot=True, cmap=\"YlGnBu\" ,fmt='g')\n",
        "ax.xaxis.set_label_position(\"top\")\n",
        "plt.tight_layout()\n",
        "plt.title('Confusion matrix', y=1.1)\n",
        "plt.ylabel('Actual label')\n",
        "plt.xlabel('Predicted label')"
      ],
      "execution_count": 0,
      "outputs": [
        {
          "output_type": "execute_result",
          "data": {
            "text/plain": [
              "Text(0.5, 257.44, 'Predicted label')"
            ]
          },
          "metadata": {
            "tags": []
          },
          "execution_count": 123
        },
        {
          "output_type": "display_data",
          "data": {
            "image/png": "[encoded data removed]",
            "text/plain": [
              "<Figure size 432x288 with 2 Axes>"
            ]
          },
          "metadata": {
            "tags": [],
            "needs_background": "light"
          }
        }
      ]
    },
    {
      "cell_type": "code",
      "metadata": {
        "id": "cwqf7KPXGf1G",
        "colab_type": "code",
        "outputId": "0b4040da-f357-41c6-a45d-0321b7be5459",
        "colab": {
          "base_uri": "https://localhost:8080/",
          "height": 87
        }
      },
      "source": [
        "# Some statistics\n",
        "\n",
        "# Build array of length y_test with 48% ones, 52% zeroes for climo y_pred\n",
        "prob_array = np.zeros([100],dtype=int)\n",
        "prob_array[0:48] = 1\n",
        "np.random.shuffle(prob_array)\n",
        "y_pred2 = np.random.choice(prob_array,size=y_test.shape[0])\n",
        "\n",
        "# create variables of model and climo brier scores to calc brier skill score\n",
        "bs_m = metrics.brier_score_loss(y_test, y_pred)\n",
        "bs_c = metrics.brier_score_loss(y_test, y_pred2)\n",
        "bss = ((bs_c - bs_m)/bs_c)\n",
        "\n",
        "print(\"Accuracy:\", metrics.accuracy_score(y_test, y_pred))\n",
        "print(\"Logistic Regression Brier Score:\", metrics.brier_score_loss(y_test, y_pred))\n",
        "print(\"Climatology Brier Score:\", metrics.brier_score_loss(y_test, y_pred2))\n",
        "print(\"Brier Skill Score:\", bss)"
      ],
      "execution_count": 0,
      "outputs": [
        {
          "output_type": "stream",
          "text": [
            "Accuracy: 0.9702967452816639\n",
            "Logistic Regression Brier Score: 0.02970325471833616\n",
            "Climatology Brier Score: 0.5031455574387407\n",
            "Brier Skill Score: 0.940964887239509\n"
          ],
          "name": "stdout"
        }
      ]
    },
    {
      "cell_type": "code",
      "metadata": {
        "id": "AwAFkagmlC2M",
        "colab_type": "code",
        "outputId": "6144a2c3-39dd-404c-f9c1-26cc38b9600b",
        "colab": {
          "base_uri": "https://localhost:8080/",
          "height": 295
        }
      },
      "source": [
        "# Plot ROC curve \n",
        "y_pred_proba = logreg.predict_proba(X_test)[::,1]\n",
        "fpr, tpr, _ = metrics.roc_curve(y_test,  y_pred_proba)\n",
        "auc = metrics.roc_auc_score(y_test, y_pred_proba)\n",
        "plt.plot(fpr,tpr,label=\"Logistic Regression, auc=\"+str(auc))\n",
        "plt.plot([0, 1], [0, 1],'r--')\n",
        "plt.legend(loc=4)\n",
        "plt.xlabel('False Positive Rate')\n",
        "plt.ylabel('True Positive Rate')\n",
        "plt.title('Receiver operating characteristic')\n",
        "plt.legend(loc=\"lower right\")\n",
        "plt.show()"
      ],
      "execution_count": 0,
      "outputs": [
        {
          "output_type": "display_data",
          "data": {
            "image/png": "[encoded data removed]",
            "text/plain": [
              "<Figure size 432x288 with 1 Axes>"
            ]
          },
          "metadata": {
            "tags": [],
            "needs_background": "light"
          }
        }
      ]
    },
    {
      "cell_type": "markdown",
      "metadata": {
        "id": "cu3uddf43ENw",
        "colab_type": "text"
      },
      "source": [
        "# Gaussian Naive Bayes Model"
      ]
    },
    {
      "cell_type": "code",
      "metadata": {
        "id": "C7jyh7K06Jzk",
        "colab_type": "code",
        "colab": {}
      },
      "source": [
        "# split dataset into features and target variable\n",
        "cols = ['wind_direction', 'wind_speed',\t'air_temperature', 'dew_point_temperature',\t'sea_level_pressure',\t'pressure',\t'wet_bulb']\n",
        "X2 = data[cols] #features\n",
        "y = data.Precipitation_Type # Target variable\n",
        "\n",
        "# scale\n",
        "from sklearn.preprocessing import MinMaxScaler\n",
        "scaler = MinMaxScaler()\n",
        "X2 = scaler.fit_transform(X2)\n",
        "\n",
        "# split X and y into training and testing sets\n",
        "from sklearn.model_selection import train_test_split\n",
        "X2_train,X2_test,y_train,y_test = train_test_split(X2,y,test_size=0.3,random_state=0)\n",
        "\n",
        "# creating Gaussian Naive Bayes model\n",
        "from sklearn.naive_bayes import GaussianNB\n",
        "\n",
        "gnb = GaussianNB()\n",
        "gnb.fit(X2_train,y_train)\n",
        "gnb_y_pred = gnb.predict(X2_test)"
      ],
      "execution_count": 0,
      "outputs": []
    },
    {
      "cell_type": "code",
      "metadata": {
        "id": "NXo9XiKs6qTf",
        "colab_type": "code",
        "colab": {}
      },
      "source": [
        "prob_array = np.zeros([100],dtype=int)\n",
        "prob_array[0:49] = 1\n",
        "np.random.shuffle(prob_array)\n",
        "clim_y_pred = np.random.choice(prob_array,size=y_test.shape[0])"
      ],
      "execution_count": 0,
      "outputs": []
    },
    {
      "cell_type": "code",
      "metadata": {
        "id": "Z6z5LYgD6wXb",
        "colab_type": "code",
        "outputId": "c7a41671-0da2-4d07-fe22-af55b9e16f5f",
        "colab": {
          "base_uri": "https://localhost:8080/",
          "height": 343
        }
      },
      "source": [
        "# Construct confusion matrix\n",
        "from sklearn import metrics\n",
        "gnb_cnf_matrix = metrics.confusion_matrix(y_test, gnb_y_pred)\n",
        "\n",
        "# Plot confusion matrix\n",
        "class_names=[0,1] # name  of classes\n",
        "fig, ax = plt.subplots()\n",
        "tick_marks = np.arange(len(class_names))\n",
        "plt.xticks(tick_marks, class_names)\n",
        "plt.yticks(tick_marks, class_names)\n",
        "# create heatmap\n",
        "sns.heatmap(pd.DataFrame(gnb_cnf_matrix), annot=True, cmap=\"YlGnBu\" ,fmt='g')\n",
        "ax.xaxis.set_label_position(\"top\")\n",
        "plt.tight_layout()\n",
        "plt.title('Confusion matrix', y=1.1)\n",
        "plt.ylabel('Actual label')\n",
        "plt.xlabel('Predicted label')"
      ],
      "execution_count": 0,
      "outputs": [
        {
          "output_type": "execute_result",
          "data": {
            "text/plain": [
              "Text(0.5, 257.44, 'Predicted label')"
            ]
          },
          "metadata": {
            "tags": []
          },
          "execution_count": 128
        },
        {
          "output_type": "display_data",
          "data": {
            "image/png": "[encoded data removed]",
            "text/plain": [
              "<Figure size 432x288 with 2 Axes>"
            ]
          },
          "metadata": {
            "tags": [],
            "needs_background": "light"
          }
        }
      ]
    },
    {
      "cell_type": "code",
      "metadata": {
        "id": "Dv9oOO3J623V",
        "colab_type": "code",
        "outputId": "b8912fe2-05ec-4e4f-bd4e-edfb2c425e5e",
        "colab": {
          "base_uri": "https://localhost:8080/",
          "height": 87
        }
      },
      "source": [
        "accuracy = metrics.accuracy_score(y_test, gnb_y_pred)\n",
        "brier_score = metrics.brier_score_loss(y_test, gnb_y_pred)\n",
        "brier_score_climo = metrics.brier_score_loss(y_test, clim_y_pred)\n",
        "print(\"Accuracy:\", accuracy)\n",
        "print(\"Brier Score:\", brier_score)\n",
        "print(\"Brier Score (Climo):\", brier_score_climo)\n",
        "print(\"Brier Skill Score:\", 1 - brier_score/brier_score_climo)"
      ],
      "execution_count": 0,
      "outputs": [
        {
          "output_type": "stream",
          "text": [
            "Accuracy: 0.9659303093849645\n",
            "Brier Score: 0.03406969061503548\n",
            "Brier Score (Climo): 0.5027146591594611\n",
            "Brier Skill Score: 0.9322285714285714\n"
          ],
          "name": "stdout"
        }
      ]
    }
  ]
}